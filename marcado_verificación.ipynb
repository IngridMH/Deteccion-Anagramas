{
  "nbformat": 4,
  "nbformat_minor": 0,
  "metadata": {
    "colab": {
      "name": "marcado-verificación.ipynb",
      "provenance": [],
      "authorship_tag": "ABX9TyO2863ytyI7CCx7Tf0Ueu4L",
      "include_colab_link": true
    },
    "kernelspec": {
      "name": "python3",
      "display_name": "Python 3"
    }
  },
  "cells": [
    {
      "cell_type": "markdown",
      "metadata": {
        "id": "view-in-github",
        "colab_type": "text"
      },
      "source": [
        "<a href=\"https://colab.research.google.com/github/IngridMH/Deteccion-Anagramas/blob/main/marcado_verificaci%C3%B3n.ipynb\" target=\"_parent\"><img src=\"https://colab.research.google.com/assets/colab-badge.svg\" alt=\"Open In Colab\"/></a>"
      ]
    },
    {
      "cell_type": "code",
      "metadata": {
        "id": "N7CaNSu8cf_W"
      },
      "source": [
        "def anagramaSolucion1(cadena1,cadena2):\n",
        "    unaLista = list(cadena2)\n",
        "\n",
        "    pos1 = 0\n",
        "    aunOK = True\n",
        "\n",
        "    while pos1 < len(cadena1) and aunOK:\n",
        "        pos2 = 0\n",
        "        encontrado = False\n",
        "        while pos2 < len(unaLista) and not encontrado:\n",
        "            if cadena1[pos1] == unaLista[pos2]:\n",
        "                encontrado = True\n",
        "            else:\n",
        "                pos2 = pos2 + 1\n",
        "\n",
        "        if encontrado:\n",
        "            unaLista[pos2] = None\n",
        "        else:\n",
        "            aunOK = False\n",
        "\n",
        "        pos1 = pos1 + 1\n",
        "\n",
        "    return aunOK"
      ],
      "execution_count": null,
      "outputs": []
    },
    {
      "cell_type": "code",
      "metadata": {
        "colab": {
          "base_uri": "https://localhost:8080/"
        },
        "id": "FHQImlTack3o",
        "outputId": "b76cf556-c86b-4ae5-8bca-410dcb87d72b"
      },
      "source": [
        "print(anagramaSolucion1('abcd','dcba'))"
      ],
      "execution_count": null,
      "outputs": [
        {
          "output_type": "stream",
          "text": [
            "True\n"
          ],
          "name": "stdout"
        }
      ]
    }
  ]
}