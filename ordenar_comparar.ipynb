{
  "nbformat": 4,
  "nbformat_minor": 0,
  "metadata": {
    "colab": {
      "name": "ordenar-comparar.ipynb",
      "provenance": [],
      "authorship_tag": "ABX9TyPHhxWGwT5OvPJCYJpvm3y2",
      "include_colab_link": true
    },
    "kernelspec": {
      "name": "python3",
      "display_name": "Python 3"
    }
  },
  "cells": [
    {
      "cell_type": "markdown",
      "metadata": {
        "id": "view-in-github",
        "colab_type": "text"
      },
      "source": [
        "<a href=\"https://colab.research.google.com/github/IngridMH/Deteccion-Anagramas/blob/main/ordenar_comparar.ipynb\" target=\"_parent\"><img src=\"https://colab.research.google.com/assets/colab-badge.svg\" alt=\"Open In Colab\"/></a>"
      ]
    },
    {
      "cell_type": "code",
      "metadata": {
        "id": "xcMvHBhwd_D6"
      },
      "source": [
        "def anagramaSolucion2(cadena1,cadena2):\n",
        "    unaLista1 = list(cadena1)\n",
        "    unaLista2 = list(cadena2)\n",
        "\n",
        "    unaLista1.sort()\n",
        "    unaLista2.sort()\n",
        "\n",
        "    pos = 0\n",
        "    coincide = True\n",
        "\n",
        "    while pos < len(cadena1) and coincide:\n",
        "        if unaLista1[pos]==unaLista2[pos]:\n",
        "            pos = pos + 1\n",
        "        else:\n",
        "            coincide = False\n",
        "\n",
        "    return coincide"
      ],
      "execution_count": null,
      "outputs": []
    },
    {
      "cell_type": "code",
      "metadata": {
        "colab": {
          "base_uri": "https://localhost:8080/"
        },
        "id": "NQp_xCJQeGXS",
        "outputId": "9b805289-e7c4-4348-ea51-f5b79a2c39ad"
      },
      "source": [
        "print(anagramaSolucion2('abcde','edcba'))"
      ],
      "execution_count": null,
      "outputs": [
        {
          "output_type": "stream",
          "text": [
            "True\n"
          ],
          "name": "stdout"
        }
      ]
    }
  ]
}