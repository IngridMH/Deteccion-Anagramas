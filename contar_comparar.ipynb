{
  "nbformat": 4,
  "nbformat_minor": 0,
  "metadata": {
    "colab": {
      "name": "contar-comparar.ipynb",
      "provenance": [],
      "authorship_tag": "ABX9TyMx8zp2K97OvW+FijtUnuCl",
      "include_colab_link": true
    },
    "kernelspec": {
      "name": "python3",
      "display_name": "Python 3"
    }
  },
  "cells": [
    {
      "cell_type": "markdown",
      "metadata": {
        "id": "view-in-github",
        "colab_type": "text"
      },
      "source": [
        "<a href=\"https://colab.research.google.com/github/IngridMH/Deteccion-Anagramas/blob/main/contar_comparar.ipynb\" target=\"_parent\"><img src=\"https://colab.research.google.com/assets/colab-badge.svg\" alt=\"Open In Colab\"/></a>"
      ]
    },
    {
      "cell_type": "code",
      "metadata": {
        "id": "wO81I6Aqd_6k"
      },
      "source": [
        "def anagramaSolucion4(cadena1,cadena2):\n",
        "    c1 = [0]*26\n",
        "    c2 = [0]*26\n",
        "\n",
        "    for i in range(len(cadena1)):\n",
        "        pos = ord(cadena1[i])-ord('a')\n",
        "        c1[pos] = c1[pos] + 1\n",
        "\n",
        "    for i in range(len(cadena2)):\n",
        "        pos = ord(cadena2[i])-ord('a')\n",
        "        c2[pos] = c2[pos] + 1\n",
        "\n",
        "    j = 0\n",
        "    aunOK = True\n",
        "    while j<26 and aunOK:\n",
        "        if c1[j]==c2[j]:\n",
        "            j = j + 1\n",
        "        else:\n",
        "            aunOK = False\n",
        "\n",
        "    return aunOK"
      ],
      "execution_count": null,
      "outputs": []
    },
    {
      "cell_type": "code",
      "metadata": {
        "colab": {
          "base_uri": "https://localhost:8080/"
        },
        "id": "_gma6UGLegGM",
        "outputId": "242b9de0-94d0-4a07-bd17-1690847e6b8a"
      },
      "source": [
        "print(anagramaSolucion4('cero','ocre'))"
      ],
      "execution_count": null,
      "outputs": [
        {
          "output_type": "stream",
          "text": [
            "True\n"
          ],
          "name": "stdout"
        }
      ]
    }
  ]
}